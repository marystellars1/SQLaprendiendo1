{
  "nbformat": 4,
  "nbformat_minor": 0,
  "metadata": {
    "colab": {
      "provenance": [],
      "authorship_tag": "ABX9TyOLE6wMVevoI7grBQk8pX2B",
      "include_colab_link": true
    },
    "kernelspec": {
      "name": "python3",
      "display_name": "Python 3"
    },
    "language_info": {
      "name": "python"
    }
  },
  "cells": [
    {
      "cell_type": "markdown",
      "metadata": {
        "id": "view-in-github",
        "colab_type": "text"
      },
      "source": [
        "<a href=\"https://colab.research.google.com/github/marystellars1/SQLaprendiendo1/blob/main/Untitled4.ipynb\" target=\"_parent\"><img src=\"https://colab.research.google.com/assets/colab-badge.svg\" alt=\"Open In Colab\"/></a>"
      ]
    },
    {
      "cell_type": "code",
      "source": [],
      "metadata": {
        "colab": {
          "base_uri": "https://localhost:8080/"
        },
        "id": "Q45kOCCt2VCZ",
        "outputId": "d03d2d51-b7ba-48d2-9831-227d50a230a5"
      },
      "execution_count": 72,
      "outputs": [
        {
          "output_type": "stream",
          "name": "stdout",
          "text": [
            "      Nombre   Profesión            País\n",
            "0    Melissa   Ingeniera  Estados Unidos\n",
            "1      Nadia      Doctor          Canadá\n",
            "2      Mauri    Profesor     Reino Unido\n",
            "3      Laura     Artista         Francia\n",
            "4     Marcia  Científica        Alemania\n",
            "5     Luchis      Músico           Japón\n",
            "6       Vale   Escritora       Australia\n",
            "7  Andresito     Abogado          Brasil\n"
          ]
        }
      ]
    },
    {
      "cell_type": "code",
      "source": [
        "import pandas as pd\n",
        "  ejemplo = pd.read_csv('/PQRD_2022_ok (1).csv')\n",
        "\n"
      ],
      "metadata": {
        "colab": {
          "base_uri": "https://localhost:8080/",
          "height": 106
        },
        "id": "7X-g5k31RSId",
        "outputId": "5c70e2fa-4af9-48b7-f04b-de1976c736a3"
      },
      "execution_count": 81,
      "outputs": [
        {
          "output_type": "error",
          "ename": "IndentationError",
          "evalue": "unexpected indent (<ipython-input-81-4c9f0d3ecec5>, line 2)",
          "traceback": [
            "\u001b[0;36m  File \u001b[0;32m\"<ipython-input-81-4c9f0d3ecec5>\"\u001b[0;36m, line \u001b[0;32m2\u001b[0m\n\u001b[0;31m    ejemplo = pd.read_csv('/PQRD_2022_ok (1).csv')\u001b[0m\n\u001b[0m    ^\u001b[0m\n\u001b[0;31mIndentationError\u001b[0m\u001b[0;31m:\u001b[0m unexpected indent\n"
          ]
        }
      ]
    },
    {
      "cell_type": "code",
      "source": [],
      "metadata": {
        "id": "_cki0HpuBdDm"
      },
      "execution_count": null,
      "outputs": []
    }
  ]
}