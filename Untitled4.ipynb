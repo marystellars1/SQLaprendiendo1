{
  "nbformat": 4,
  "nbformat_minor": 0,
  "metadata": {
    "colab": {
      "provenance": [],
      "authorship_tag": "ABX9TyP4G7vw75UbBCOuF1QZwNd9",
      "include_colab_link": true
    },
    "kernelspec": {
      "name": "python3",
      "display_name": "Python 3"
    },
    "language_info": {
      "name": "python"
    }
  },
  "cells": [
    {
      "cell_type": "markdown",
      "metadata": {
        "id": "view-in-github",
        "colab_type": "text"
      },
      "source": [
        "<a href=\"https://colab.research.google.com/github/marystellars1/SQLaprendiendo1/blob/main/Untitled4.ipynb\" target=\"_parent\"><img src=\"https://colab.research.google.com/assets/colab-badge.svg\" alt=\"Open In Colab\"/></a>"
      ]
    },
    {
      "cell_type": "code",
      "source": [],
      "metadata": {
        "colab": {
          "base_uri": "https://localhost:8080/"
        },
        "id": "Q45kOCCt2VCZ",
        "outputId": "d03d2d51-b7ba-48d2-9831-227d50a230a5"
      },
      "execution_count": null,
      "outputs": [
        {
          "output_type": "stream",
          "name": "stdout",
          "text": [
            "      Nombre   Profesión            País\n",
            "0    Melissa   Ingeniera  Estados Unidos\n",
            "1      Nadia      Doctor          Canadá\n",
            "2      Mauri    Profesor     Reino Unido\n",
            "3      Laura     Artista         Francia\n",
            "4     Marcia  Científica        Alemania\n",
            "5     Luchis      Músico           Japón\n",
            "6       Vale   Escritora       Australia\n",
            "7  Andresito     Abogado          Brasil\n"
          ]
        }
      ]
    },
    {
      "cell_type": "code",
      "source": [
        "import pandas as pd\n",
        "import numpy as np\n",
        "ejemplo = pd.read_csv('/content/sample_data/california_housing_train.csv')\n",
        "ejemplo= pd.DataFrame(np.random.rand(100,8))\n",
        "ejemplo.head(10)\n",
        "ejemplo.describe()\n",
        "print(pd.options.display.max_rows)"
      ],
      "metadata": {
        "colab": {
          "base_uri": "https://localhost:8080/"
        },
        "id": "7X-g5k31RSId",
        "outputId": "2d442559-0040-466a-831b-2f26abc63fa1"
      },
      "execution_count": 14,
      "outputs": [
        {
          "output_type": "stream",
          "name": "stdout",
          "text": [
            "60\n"
          ]
        }
      ]
    },
    {
      "cell_type": "code",
      "source": [
        "import numpy as np\n",
        "import matplotlib.pyplot as plt\n",
        "arr = np.array([3,8,15,2,23,22,98,32,11,56])\n",
        "sum_arr = np.sum(arr)\n",
        "mean_arr = np.mean(arr)\n",
        "max_arr = np.max(arr)\n",
        "print(\"Array:\", arr)\n",
        "print(\"Sum:\", sum_arr)\n",
        "print(\"Mean:\", mean_arr)\n",
        "print(\"Maximum value:\", max_arr)\n",
        "plt.bar(['Sum', 'Mean', 'Max'], [sum_arr, mean_arr, max_arr])\n",
        "plt.title('Sum, Mean, and Max of Array')\n",
        "plt.ylabel('Value')\n",
        "plt.show()"
      ],
      "metadata": {
        "id": "u5dR8kphaTrk",
        "outputId": "741b6aea-325f-4808-a456-497b2cb443db",
        "colab": {
          "base_uri": "https://localhost:8080/",
          "height": 521
        }
      },
      "execution_count": 17,
      "outputs": [
        {
          "output_type": "stream",
          "name": "stdout",
          "text": [
            "Array: [ 3  8 15  2 23 22 98 32 11 56]\n",
            "Sum: 270\n",
            "Mean: 27.0\n",
            "Maximum value: 98\n"
          ]
        },
        {
          "output_type": "display_data",
          "data": {
            "text/plain": [
              "<Figure size 640x480 with 1 Axes>"
            ],
            "image/png": "[encoded data removed]"
          },
          "metadata": {}
        }
      ]
    },
    {
      "cell_type": "code",
      "source": [
        "import numpy as np\n",
        "arr = np.zeros((3, 4))\n",
        "print(arr)"
      ],
      "metadata": {
        "id": "uNKU_2cwdLfW",
        "outputId": "5da40b92-506b-4d46-fe8f-1e4d28fe6abb",
        "colab": {
          "base_uri": "https://localhost:8080/"
        }
      },
      "execution_count": 25,
      "outputs": [
        {
          "output_type": "stream",
          "name": "stdout",
          "text": [
            "[[0. 0. 0. 0.]\n",
            " [0. 0. 0. 0.]\n",
            " [0. 0. 0. 0.]]\n"
          ]
        }
      ]
    },
    {
      "cell_type": "code",
      "source": [
        "import numpy as np\n",
        "matrix = np.random.rand(3, 3)\n",
        "matrix_transpose = matrix.T\n",
        "print(\"Original Matrix:\")\n",
        "print(matrix)\n",
        "print(\"\\nTransposed Matrix:\")\n",
        "print(matrix_transpose)"
      ],
      "metadata": {
        "id": "uyQu5z1sewZV",
        "outputId": "5e566bec-c911-4b71-9771-16118f0fae10",
        "colab": {
          "base_uri": "https://localhost:8080/"
        }
      },
      "execution_count": 26,
      "outputs": [
        {
          "output_type": "stream",
          "name": "stdout",
          "text": [
            "Original Matrix:\n",
            "[[0.34344904 0.74834778 0.67803374]\n",
            " [0.94355809 0.30587921 0.46821275]\n",
            " [0.16219399 0.54576735 0.64127057]]\n",
            "\n",
            "Transposed Matrix:\n",
            "[[0.34344904 0.94355809 0.16219399]\n",
            " [0.74834778 0.30587921 0.54576735]\n",
            " [0.67803374 0.46821275 0.64127057]]\n"
          ]
        }
      ]
    },
    {
      "cell_type": "code",
      "source": [
        "import numpy as np\n",
        "arr = np.zeros((2, 6))\n",
        "arr = arr.reshape((2, 6))\n",
        "print(arr)"
      ],
      "metadata": {
        "id": "6cPB7FaidRS2",
        "outputId": "1678ede2-668c-4c4d-af8e-471c21512beb",
        "colab": {
          "base_uri": "https://localhost:8080/"
        }
      },
      "execution_count": 19,
      "outputs": [
        {
          "output_type": "stream",
          "name": "stdout",
          "text": [
            "[[0. 0. 0. 0. 0. 0.]\n",
            " [0. 0. 0. 0. 0. 0.]]\n"
          ]
        }
      ]
    },
    {
      "cell_type": "code",
      "source": [
        "import numpy as np\n",
        "arrayprimero = np.array([34, 45, 98, 66, 52])\n",
        "arraysegundo = np.array([62, 67, 22, 9, 28])\n",
        "concatenar_los_array = np.concatenate((arrayprimero, arraysegundo))\n",
        "print(concatenar_los_array)"
      ],
      "metadata": {
        "id": "BmZshcLDgGcq",
        "outputId": "74c50639-62c3-4738-9200-186ef9c41a82",
        "colab": {
          "base_uri": "https://localhost:8080/"
        }
      },
      "execution_count": 27,
      "outputs": [
        {
          "output_type": "stream",
          "name": "stdout",
          "text": [
            "[34 45 98 66 52 62 67 22  9 28]\n"
          ]
        }
      ]
    }
  ]
}